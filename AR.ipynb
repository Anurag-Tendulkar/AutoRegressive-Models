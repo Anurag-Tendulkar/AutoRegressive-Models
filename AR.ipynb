{
 "cells": [
  {
   "cell_type": "code",
   "execution_count": 12,
   "metadata": {},
   "outputs": [
    {
     "name": "stdout",
     "output_type": "stream",
     "text": [
      "3.107592444382212\n",
      "4.9559479137525795\n",
      "9.364911005725618\n",
      "19.07696820544015\n",
      "37.07475249867846\n",
      "71.6373702045639\n",
      "144.74918716237855\n",
      "288.75914419649644\n",
      "578.4559351038039\n",
      "1156.4405355753015\n"
     ]
    }
   ],
   "source": [
    "import numpy as np\n",
    "import pandas as pd\n",
    "import openpyxl\n",
    "import copy\n",
    "# Get which order the user wants for the autoregressive model\n",
    "order = int(input(\"Order for Autoregressive model\"))\n",
    "\n",
    "# create an array of shape(order, ) and input coefficients in it\n",
    "coeff = np.zeros((order, ))\n",
    "for idx in range(order) :\n",
    "    coeff[idx] = float(input(\"coefficient : \" + str(idx + 1)))\n",
    "coeff.reshape((-1, 1))\n",
    "# print(coeff)\n",
    "\n",
    "# get the initial values of the time series\n",
    "initial = np.zeros((order, ))\n",
    "for idx in range(order):\n",
    "    initial[idx] = float(input(\"initial value at time \" + str(idx + 1) + \" : \"))\n",
    "# print (initial)\n",
    "\n",
    "# get number of time steps\n",
    "len = int(input(\"Length of time series to be generated : \"))\n",
    "\n",
    "# write initial data in the excel file\n",
    "wb = openpyxl.load_workbook(\"Data.xlsx\")\n",
    "ws = wb.active\n",
    "for idx in range(order):\n",
    "    ws.cell(row=1, column=idx+1).value = initial[idx]\n",
    "\n",
    "# generate the autoregressive time series of the given order\n",
    "# latest stores the latest values of the times series\n",
    "latest = copy.deepcopy(initial)\n",
    "\n",
    "for idx in range(len):\n",
    "    # multiply the matrices\n",
    "    val = np.matmul(latest, coeff) + np.random.normal(0, 1)\n",
    "    np.roll(latest, -1)\n",
    "    latest[order-1] = val\n",
    "    ws.cell(row=1, column=order+idx+1).value = val\n",
    "    print(val)\n",
    "\n",
    "wb.save(\"Data.xlsx\")"
   ]
  }
 ],
 "metadata": {
  "kernelspec": {
   "display_name": "Python 3",
   "language": "python",
   "name": "python3"
  },
  "language_info": {
   "codemirror_mode": {
    "name": "ipython",
    "version": 3
   },
   "file_extension": ".py",
   "mimetype": "text/x-python",
   "name": "python",
   "nbconvert_exporter": "python",
   "pygments_lexer": "ipython3",
   "version": "3.10.0"
  },
  "orig_nbformat": 4,
  "vscode": {
   "interpreter": {
    "hash": "fbfacf25abbc4466cbf6a4ec94f71aa428570133f008ac9f4c86deb26a69bb88"
   }
  }
 },
 "nbformat": 4,
 "nbformat_minor": 2
}
